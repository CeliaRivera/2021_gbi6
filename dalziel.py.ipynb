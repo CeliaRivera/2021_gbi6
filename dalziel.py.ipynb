{
 "cells": [
  {
   "cell_type": "code",
   "execution_count": 15,
   "id": "ed7de573",
   "metadata": {},
   "outputs": [],
   "source": [
    "ciudadcasos = {}\n",
    "import pandas as pd \n",
    "import csv \n",
    "with open('Dalziel2016_data.csv', 'r') as f: \n",
    "    ciudad_csv = csv.DictReader(f)\n",
    "    for line in ciudad_csv:\n",
    "        ciudad = line['loc']\n",
    "        casos = float(line['cases'] == None)\n",
    "        pop = float(line['pop'])\n",
    "        ciudadcasos[ciudad] = ciudadcasos.get(ciudad, [0,0])\n",
    "        ciudadcasos[ciudad][0] = ciudadcasos[ciudad][0] + pop\n",
    "        ciudadcasos[ciudad][1] = ciudadcasos[ciudad][1] + casos\n"
   ]
  },
  {
   "cell_type": "code",
   "execution_count": 18,
   "id": "5a9baec1",
   "metadata": {},
   "outputs": [],
   "source": [
    "def avgcity(ciudad):  \n",
    "    ciudad_promedio = []\n",
    "    #Key crea una lista que alberga las claves del diccionario \n",
    "    for ciudad in ciudadcasos.keys():\n",
    "            ciudadcasos[ciudad][0] = ciudadcasos[ciudad][0] / ciudadcasos[ciudad][1]\n",
    "    for ciudad in ['BALTIMORE', 'BOSTON', 'BRIDGEPORT', 'BUFFALO', 'CHICAGO']:\n",
    "            print(ciudad,':', round(ciudadcasos[ciudad][0],2)) \n",
    "    return None"
   ]
  },
  {
   "cell_type": "code",
   "execution_count": 19,
   "id": "dd4c2934",
   "metadata": {},
   "outputs": [
    {
     "ename": "ZeroDivisionError",
     "evalue": "float division by zero",
     "output_type": "error",
     "traceback": [
      "\u001b[1;31m---------------------------------------------------------------------------\u001b[0m",
      "\u001b[1;31mZeroDivisionError\u001b[0m                         Traceback (most recent call last)",
      "\u001b[1;32m<ipython-input-19-c56eee2ecf5b>\u001b[0m in \u001b[0;36m<module>\u001b[1;34m\u001b[0m\n\u001b[1;32m----> 1\u001b[1;33m \u001b[0mavgcity\u001b[0m\u001b[1;33m(\u001b[0m\u001b[0mciudad\u001b[0m\u001b[1;33m=\u001b[0m\u001b[0mciudadcasos\u001b[0m\u001b[1;33m)\u001b[0m\u001b[1;33m\u001b[0m\u001b[1;33m\u001b[0m\u001b[0m\n\u001b[0m",
      "\u001b[1;32m<ipython-input-18-9436fe91bd64>\u001b[0m in \u001b[0;36mavgcity\u001b[1;34m(ciudad)\u001b[0m\n\u001b[0;32m      3\u001b[0m     \u001b[1;31m#Key crea una lista que alberga las claves del diccionario\u001b[0m\u001b[1;33m\u001b[0m\u001b[1;33m\u001b[0m\u001b[1;33m\u001b[0m\u001b[0m\n\u001b[0;32m      4\u001b[0m     \u001b[1;32mfor\u001b[0m \u001b[0mciudad\u001b[0m \u001b[1;32min\u001b[0m \u001b[0mciudadcasos\u001b[0m\u001b[1;33m.\u001b[0m\u001b[0mkeys\u001b[0m\u001b[1;33m(\u001b[0m\u001b[1;33m)\u001b[0m\u001b[1;33m:\u001b[0m\u001b[1;33m\u001b[0m\u001b[1;33m\u001b[0m\u001b[0m\n\u001b[1;32m----> 5\u001b[1;33m             \u001b[0mciudadcasos\u001b[0m\u001b[1;33m[\u001b[0m\u001b[0mciudad\u001b[0m\u001b[1;33m]\u001b[0m\u001b[1;33m[\u001b[0m\u001b[1;36m0\u001b[0m\u001b[1;33m]\u001b[0m \u001b[1;33m=\u001b[0m \u001b[0mciudadcasos\u001b[0m\u001b[1;33m[\u001b[0m\u001b[0mciudad\u001b[0m\u001b[1;33m]\u001b[0m\u001b[1;33m[\u001b[0m\u001b[1;36m0\u001b[0m\u001b[1;33m]\u001b[0m \u001b[1;33m/\u001b[0m \u001b[0mciudadcasos\u001b[0m\u001b[1;33m[\u001b[0m\u001b[0mciudad\u001b[0m\u001b[1;33m]\u001b[0m\u001b[1;33m[\u001b[0m\u001b[1;36m1\u001b[0m\u001b[1;33m]\u001b[0m\u001b[1;33m\u001b[0m\u001b[1;33m\u001b[0m\u001b[0m\n\u001b[0m\u001b[0;32m      6\u001b[0m     \u001b[1;32mfor\u001b[0m \u001b[0mciudad\u001b[0m \u001b[1;32min\u001b[0m \u001b[1;33m[\u001b[0m\u001b[1;34m'BALTIMORE'\u001b[0m\u001b[1;33m,\u001b[0m \u001b[1;34m'BOSTON'\u001b[0m\u001b[1;33m,\u001b[0m \u001b[1;34m'BRIDGEPORT'\u001b[0m\u001b[1;33m,\u001b[0m \u001b[1;34m'BUFFALO'\u001b[0m\u001b[1;33m,\u001b[0m \u001b[1;34m'CHICAGO'\u001b[0m\u001b[1;33m]\u001b[0m\u001b[1;33m:\u001b[0m\u001b[1;33m\u001b[0m\u001b[1;33m\u001b[0m\u001b[0m\n\u001b[0;32m      7\u001b[0m             \u001b[0mprint\u001b[0m\u001b[1;33m(\u001b[0m\u001b[0mciudad\u001b[0m\u001b[1;33m,\u001b[0m\u001b[1;34m':'\u001b[0m\u001b[1;33m,\u001b[0m \u001b[0mround\u001b[0m\u001b[1;33m(\u001b[0m\u001b[0mciudadcasos\u001b[0m\u001b[1;33m[\u001b[0m\u001b[0mciudad\u001b[0m\u001b[1;33m]\u001b[0m\u001b[1;33m[\u001b[0m\u001b[1;36m0\u001b[0m\u001b[1;33m]\u001b[0m\u001b[1;33m,\u001b[0m\u001b[1;36m2\u001b[0m\u001b[1;33m)\u001b[0m\u001b[1;33m)\u001b[0m\u001b[1;33m\u001b[0m\u001b[1;33m\u001b[0m\u001b[0m\n",
      "\u001b[1;31mZeroDivisionError\u001b[0m: float division by zero"
     ]
    }
   ],
   "source": [
    "avgcity(ciudad=ciudadcasos)\n"
   ]
  },
  {
   "cell_type": "code",
   "execution_count": 122,
   "id": "c5813890",
   "metadata": {},
   "outputs": [
    {
     "ename": "ZeroDivisionError",
     "evalue": "float division by zero",
     "output_type": "error",
     "traceback": [
      "\u001b[1;31m---------------------------------------------------------------------------\u001b[0m",
      "\u001b[1;31mZeroDivisionError\u001b[0m                         Traceback (most recent call last)",
      "\u001b[1;32m<ipython-input-122-0160b0bb169e>\u001b[0m in \u001b[0;36m<module>\u001b[1;34m\u001b[0m\n\u001b[0;32m     14\u001b[0m \u001b[1;32mfor\u001b[0m \u001b[0mcity\u001b[0m \u001b[1;32min\u001b[0m \u001b[0mcityyear\u001b[0m\u001b[1;33m.\u001b[0m\u001b[0mkeys\u001b[0m\u001b[1;33m(\u001b[0m\u001b[1;33m)\u001b[0m\u001b[1;33m:\u001b[0m\u001b[1;33m\u001b[0m\u001b[1;33m\u001b[0m\u001b[0m\n\u001b[0;32m     15\u001b[0m     \u001b[1;32mfor\u001b[0m \u001b[0myear\u001b[0m \u001b[1;32min\u001b[0m \u001b[0mcityyear\u001b[0m\u001b[1;33m[\u001b[0m\u001b[0mcity\u001b[0m\u001b[1;33m]\u001b[0m\u001b[1;33m.\u001b[0m\u001b[0mkeys\u001b[0m\u001b[1;33m(\u001b[0m\u001b[1;33m)\u001b[0m\u001b[1;33m:\u001b[0m\u001b[1;33m\u001b[0m\u001b[1;33m\u001b[0m\u001b[0m\n\u001b[1;32m---> 16\u001b[1;33m         \u001b[0mcityyear\u001b[0m\u001b[1;33m[\u001b[0m\u001b[0mcity\u001b[0m\u001b[1;33m]\u001b[0m\u001b[1;33m[\u001b[0m\u001b[0myear\u001b[0m\u001b[1;33m]\u001b[0m\u001b[1;33m[\u001b[0m\u001b[1;36m0\u001b[0m\u001b[1;33m]\u001b[0m \u001b[1;33m=\u001b[0m \u001b[0mcityyear\u001b[0m\u001b[1;33m[\u001b[0m\u001b[0mcity\u001b[0m\u001b[1;33m]\u001b[0m\u001b[1;33m[\u001b[0m\u001b[0myear\u001b[0m\u001b[1;33m]\u001b[0m\u001b[1;33m[\u001b[0m\u001b[1;36m0\u001b[0m\u001b[1;33m]\u001b[0m \u001b[1;33m/\u001b[0m \u001b[0mcityyear\u001b[0m\u001b[1;33m[\u001b[0m\u001b[0mcity\u001b[0m\u001b[1;33m]\u001b[0m\u001b[1;33m[\u001b[0m\u001b[0myear\u001b[0m\u001b[1;33m]\u001b[0m\u001b[1;33m[\u001b[0m\u001b[1;36m1\u001b[0m\u001b[1;33m]\u001b[0m\u001b[1;33m\u001b[0m\u001b[1;33m\u001b[0m\u001b[0m\n\u001b[0m",
      "\u001b[1;31mZeroDivisionError\u001b[0m: float division by zero"
     ]
    }
   ],
   "source": [
    "cityyear = {}\n",
    "import csv \n",
    "with open('../data/Dalziel2016_dat.csv', 'r') as f:\n",
    "    my_csv = csv.DictReader(f)\n",
    "    for line in my_csv:\n",
    "        mycity = line['loc']\n",
    "        year = line['year']\n",
    "        cases = int(line['cases'])\n",
    "        pop = float(line['pop'])        \n",
    "        cityyear[mycity] = cityyear.get(mycity, {})        \n",
    "        cityyear[mycity][year] = cityyear[mycity].get(year, [0,0])       \n",
    "        cityyear[mycity][year][0] = cityyear[mycity][year][0] + pop       \n",
    "        cityyear[mycity][year][1] = cityyear[mycity][year][1] + cases\n",
    "for city in cityyear.keys():\n",
    "    for year in cityyear[city].keys():\n",
    "        cityyear[city][year][0] = cityyear[city][year][0] / cityyear[city][year][1]"
   ]
  },
  {
   "cell_type": "code",
   "execution_count": 123,
   "id": "5a6b0bec",
   "metadata": {},
   "outputs": [],
   "source": [
    "years = list(cityyear['BALTIMORE'].keys())\n",
    "years.sort()\n",
    "\n",
    "def avgyear(city):  \n",
    "    for year in years:\n",
    "         print(year, round(cityyear['BALTIMORE'][year][0]))\n",
    "    return None"
   ]
  },
  {
   "cell_type": "code",
   "execution_count": 124,
   "id": "281d1d13",
   "metadata": {},
   "outputs": [
    {
     "name": "stdout",
     "output_type": "stream",
     "text": [
      "1906 94888\n",
      "1907 5978\n",
      "1908 7538\n",
      "1909 4803\n",
      "1910 15016\n",
      "1911 4202\n",
      "1912 25964\n",
      "1913 2836\n",
      "1914 34889\n",
      "1915 9171\n",
      "1916 3205\n",
      "1917 4260\n",
      "1918 2493\n",
      "1919 24544\n",
      "1920 3793\n",
      "1921 8738\n",
      "1922 3951\n",
      "1923 2396\n",
      "1924 4790\n",
      "1925 9544\n",
      "1926 1624\n",
      "1927 31957\n",
      "1928 1691\n",
      "1929 142019\n",
      "1930 49004\n",
      "1931 1372\n",
      "1932 126074\n",
      "1933 162550\n",
      "1934 1148\n",
      "1935 37156\n",
      "1936 5111\n",
      "1937 2321\n",
      "1938 19976\n",
      "1939 1854\n",
      "1940 257963\n",
      "1941 5177\n",
      "1942 3515\n",
      "1943 10364\n",
      "1944 2225\n",
      "1945 113878\n",
      "1946 2890\n",
      "1947 83648\n",
      "1948 3904\n"
     ]
    }
   ],
   "source": [
    "avgyear(city=cityyear)"
   ]
  },
  {
   "cell_type": "code",
   "execution_count": 125,
   "id": "3fa70a46",
   "metadata": {},
   "outputs": [],
   "source": [
    "cityyear = {}\n",
    "import csv \n",
    "with open('../data/Dalziel2016_dat.csv', 'r') as f:\n",
    "    my_csv = csv.DictReader(f)\n",
    "    for line in my_csv:\n",
    "        mycity = line['loc']\n",
    "        year = line['biweek']\n",
    "        cases = int(line['cases'])\n",
    "        pop = float(line['pop'])\n",
    "        cityyear[mycity] = cityyear.get(mycity, {})\n",
    "        cityyear[mycity][year] = cityyear[mycity].get(year, [0,0])\n",
    "        cityyear[mycity][year][0] = cityyear[mycity][year][0] + pop\n",
    "        cityyear[mycity][year][1] = cityyear[mycity][year][1] + cases\n",
    "for city in cityyear.keys():\n",
    "    for year in cityyear[city].keys():\n",
    "        cityyear[city][year][0] = cityyear[city][year][0] / cityyear[city][year][1]"
   ]
  },
  {
   "cell_type": "code",
   "execution_count": 126,
   "id": "0d77c829",
   "metadata": {},
   "outputs": [],
   "source": [
    "years = list(cityyear['CHICAGO'].keys())\n",
    "years.sort()\n",
    "\n",
    "def avgbiweek(city):  \n",
    "    for year in years:\n",
    "         print(year, round(cityyear['CHICAGO'][year][0]))\n",
    "    return None"
   ]
  },
  {
   "cell_type": "code",
   "execution_count": 127,
   "id": "bdedc70d",
   "metadata": {},
   "outputs": [
    {
     "name": "stdout",
     "output_type": "stream",
     "text": [
      "1 11497\n",
      "10 3573\n",
      "11 4147\n",
      "12 4847\n",
      "13 6871\n",
      "14 11954\n",
      "15 21939\n",
      "16 44698\n",
      "17 85552\n",
      "18 125719\n",
      "19 143229\n",
      "2 8769\n",
      "20 115794\n",
      "21 87101\n",
      "22 53757\n",
      "23 36555\n",
      "24 28631\n",
      "25 19770\n",
      "26 17746\n",
      "3 6389\n",
      "4 4566\n",
      "5 3657\n",
      "6 3285\n",
      "7 3242\n",
      "8 3119\n",
      "9 3269\n"
     ]
    }
   ],
   "source": [
    "avgbiweek(city=city)"
   ]
  },
  {
   "cell_type": "code",
   "execution_count": null,
   "id": "31de5b6d",
   "metadata": {},
   "outputs": [],
   "source": []
  }
 ],
 "metadata": {
  "kernelspec": {
   "display_name": "Python 3",
   "language": "python",
   "name": "python3"
  },
  "language_info": {
   "codemirror_mode": {
    "name": "ipython",
    "version": 3
   },
   "file_extension": ".py",
   "mimetype": "text/x-python",
   "name": "python",
   "nbconvert_exporter": "python",
   "pygments_lexer": "ipython3",
   "version": "3.8.8"
  },
  "latex_envs": {
   "LaTeX_envs_menu_present": true,
   "autoclose": false,
   "autocomplete": true,
   "bibliofile": "biblio.bib",
   "cite_by": "apalike",
   "current_citInitial": 1,
   "eqLabelWithNumbers": true,
   "eqNumInitial": 1,
   "hotkeys": {
    "equation": "Ctrl-E",
    "itemize": "Ctrl-I"
   },
   "labels_anchors": false,
   "latex_user_defs": false,
   "report_style_numbering": false,
   "user_envs_cfg": false
  },
  "toc": {
   "base_numbering": 1,
   "nav_menu": {},
   "number_sections": true,
   "sideBar": true,
   "skip_h1_title": false,
   "title_cell": "Table of Contents",
   "title_sidebar": "Contents",
   "toc_cell": false,
   "toc_position": {},
   "toc_section_display": true,
   "toc_window_display": false
  },
  "varInspector": {
   "cols": {
    "lenName": 16,
    "lenType": 16,
    "lenVar": 40
   },
   "kernels_config": {
    "python": {
     "delete_cmd_postfix": "",
     "delete_cmd_prefix": "del ",
     "library": "var_list.py",
     "varRefreshCmd": "print(var_dic_list())"
    },
    "r": {
     "delete_cmd_postfix": ") ",
     "delete_cmd_prefix": "rm(",
     "library": "var_list.r",
     "varRefreshCmd": "cat(var_dic_list()) "
    }
   },
   "types_to_exclude": [
    "module",
    "function",
    "builtin_function_or_method",
    "instance",
    "_Feature"
   ],
   "window_display": false
  }
 },
 "nbformat": 4,
 "nbformat_minor": 5
}
